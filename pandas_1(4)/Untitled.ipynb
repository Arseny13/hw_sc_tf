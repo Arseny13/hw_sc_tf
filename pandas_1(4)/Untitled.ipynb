{
 "cells": [
  {
   "cell_type": "code",
   "execution_count": 20,
   "id": "32f2cae4",
   "metadata": {},
   "outputs": [
    {
     "name": "stdout",
     "output_type": "stream",
     "text": [
      "<class 'pandas.core.frame.DataFrame'>\n",
      "RangeIndex: 6341 entries, 0 to 6340\n",
      "Data columns (total 14 columns):\n",
      " #   Column           Non-Null Count  Dtype  \n",
      "---  ------           --------------  -----  \n",
      " 0   pickup           6341 non-null   object \n",
      " 1   dropoff          6341 non-null   object \n",
      " 2   passengers       6341 non-null   int64  \n",
      " 3   distance         6341 non-null   float64\n",
      " 4   fare             6341 non-null   float64\n",
      " 5   tip              6341 non-null   float64\n",
      " 6   tolls            6341 non-null   float64\n",
      " 7   total            6341 non-null   float64\n",
      " 8   color            6341 non-null   object \n",
      " 9   payment          6341 non-null   object \n",
      " 10  pickup_zone      6341 non-null   object \n",
      " 11  dropoff_zone     6341 non-null   object \n",
      " 12  pickup_borough   6341 non-null   object \n",
      " 13  dropoff_borough  6341 non-null   object \n",
      "dtypes: float64(5), int64(1), object(8)\n",
      "memory usage: 693.7+ KB\n"
     ]
    }
   ],
   "source": [
    "import pandas as pd\n",
    "df = pd.read_csv('db.csv', delimiter=';')\n",
    "df.info()\n"
   ]
  },
  {
   "cell_type": "code",
   "execution_count": 21,
   "id": "acc8bd45",
   "metadata": {},
   "outputs": [],
   "source": [
    "df['time'] = pd.to_datetime(df['dropoff']) - pd.to_datetime(df['pickup'])\n",
    "df.describe()['time']['max'].total_seconds()"
   ]
  },
  {
   "cell_type": "code",
   "execution_count": 28,
   "id": "32357a57",
   "metadata": {},
   "outputs": [
    {
     "data": {
      "text/html": [
       "<div>\n",
       "<style scoped>\n",
       "    .dataframe tbody tr th:only-of-type {\n",
       "        vertical-align: middle;\n",
       "    }\n",
       "\n",
       "    .dataframe tbody tr th {\n",
       "        vertical-align: top;\n",
       "    }\n",
       "\n",
       "    .dataframe thead th {\n",
       "        text-align: right;\n",
       "    }\n",
       "</style>\n",
       "<table border=\"1\" class=\"dataframe\">\n",
       "  <thead>\n",
       "    <tr style=\"text-align: right;\">\n",
       "      <th></th>\n",
       "      <th>passengers</th>\n",
       "      <th>distance</th>\n",
       "      <th>fare</th>\n",
       "      <th>tip</th>\n",
       "      <th>tolls</th>\n",
       "      <th>total</th>\n",
       "      <th>time</th>\n",
       "    </tr>\n",
       "  </thead>\n",
       "  <tbody>\n",
       "    <tr>\n",
       "      <th>count</th>\n",
       "      <td>6341.000000</td>\n",
       "      <td>6341.000000</td>\n",
       "      <td>6341.000000</td>\n",
       "      <td>6341.000000</td>\n",
       "      <td>6341.000000</td>\n",
       "      <td>6341.000000</td>\n",
       "      <td>6341</td>\n",
       "    </tr>\n",
       "    <tr>\n",
       "      <th>mean</th>\n",
       "      <td>1.544078</td>\n",
       "      <td>2.997707</td>\n",
       "      <td>12.887931</td>\n",
       "      <td>1.972703</td>\n",
       "      <td>0.314793</td>\n",
       "      <td>18.310263</td>\n",
       "      <td>0 days 00:14:20.950954108</td>\n",
       "    </tr>\n",
       "    <tr>\n",
       "      <th>std</th>\n",
       "      <td>1.207948</td>\n",
       "      <td>3.719775</td>\n",
       "      <td>10.722249</td>\n",
       "      <td>2.361897</td>\n",
       "      <td>1.369174</td>\n",
       "      <td>12.950365</td>\n",
       "      <td>0 days 00:11:31.405022633</td>\n",
       "    </tr>\n",
       "    <tr>\n",
       "      <th>min</th>\n",
       "      <td>0.000000</td>\n",
       "      <td>0.000000</td>\n",
       "      <td>1.000000</td>\n",
       "      <td>0.000000</td>\n",
       "      <td>0.000000</td>\n",
       "      <td>1.300000</td>\n",
       "      <td>0 days 00:00:03</td>\n",
       "    </tr>\n",
       "    <tr>\n",
       "      <th>25%</th>\n",
       "      <td>1.000000</td>\n",
       "      <td>0.990000</td>\n",
       "      <td>6.500000</td>\n",
       "      <td>0.000000</td>\n",
       "      <td>0.000000</td>\n",
       "      <td>10.800000</td>\n",
       "      <td>0 days 00:06:32</td>\n",
       "    </tr>\n",
       "    <tr>\n",
       "      <th>50%</th>\n",
       "      <td>1.000000</td>\n",
       "      <td>1.650000</td>\n",
       "      <td>9.500000</td>\n",
       "      <td>1.750000</td>\n",
       "      <td>0.000000</td>\n",
       "      <td>14.160000</td>\n",
       "      <td>0 days 00:10:56</td>\n",
       "    </tr>\n",
       "    <tr>\n",
       "      <th>75%</th>\n",
       "      <td>2.000000</td>\n",
       "      <td>3.200000</td>\n",
       "      <td>15.000000</td>\n",
       "      <td>2.820000</td>\n",
       "      <td>0.000000</td>\n",
       "      <td>20.300000</td>\n",
       "      <td>0 days 00:18:29</td>\n",
       "    </tr>\n",
       "    <tr>\n",
       "      <th>max</th>\n",
       "      <td>6.000000</td>\n",
       "      <td>36.700000</td>\n",
       "      <td>150.000000</td>\n",
       "      <td>23.190000</td>\n",
       "      <td>24.020000</td>\n",
       "      <td>174.820000</td>\n",
       "      <td>0 days 01:47:40</td>\n",
       "    </tr>\n",
       "  </tbody>\n",
       "</table>\n",
       "</div>"
      ],
      "text/plain": [
       "        passengers     distance         fare          tip        tolls  \\\n",
       "count  6341.000000  6341.000000  6341.000000  6341.000000  6341.000000   \n",
       "mean      1.544078     2.997707    12.887931     1.972703     0.314793   \n",
       "std       1.207948     3.719775    10.722249     2.361897     1.369174   \n",
       "min       0.000000     0.000000     1.000000     0.000000     0.000000   \n",
       "25%       1.000000     0.990000     6.500000     0.000000     0.000000   \n",
       "50%       1.000000     1.650000     9.500000     1.750000     0.000000   \n",
       "75%       2.000000     3.200000    15.000000     2.820000     0.000000   \n",
       "max       6.000000    36.700000   150.000000    23.190000    24.020000   \n",
       "\n",
       "             total                       time  \n",
       "count  6341.000000                       6341  \n",
       "mean     18.310263  0 days 00:14:20.950954108  \n",
       "std      12.950365  0 days 00:11:31.405022633  \n",
       "min       1.300000            0 days 00:00:03  \n",
       "25%      10.800000            0 days 00:06:32  \n",
       "50%      14.160000            0 days 00:10:56  \n",
       "75%      20.300000            0 days 00:18:29  \n",
       "max     174.820000            0 days 01:47:40  "
      ]
     },
     "execution_count": 28,
     "metadata": {},
     "output_type": "execute_result"
    }
   ],
   "source": [
    "df.describe()"
   ]
  },
  {
   "cell_type": "code",
   "execution_count": 27,
   "id": "63c4660e",
   "metadata": {},
   "outputs": [
    {
     "data": {
      "text/plain": [
       "6460.0"
      ]
     },
     "execution_count": 27,
     "metadata": {},
     "output_type": "execute_result"
    }
   ],
   "source": [
    "df.describe()['time']['max'].total_seconds()"
   ]
  },
  {
   "cell_type": "code",
   "execution_count": 5,
   "id": "812597a6",
   "metadata": {},
   "outputs": [
    {
     "data": {
      "text/plain": [
       "pickup_zone\n",
       "Midtown Center                  227\n",
       "Penn Station/Madison Sq West    209\n",
       "Upper East Side South           208\n",
       "Clinton East                    208\n",
       "Midtown East                    196\n",
       "                               ... \n",
       "Highbridge Park                   1\n",
       "Brighton Beach                    1\n",
       "Bronx Park                        1\n",
       "Crotona Park East                 1\n",
       "Hillcrest/Pomonok                 1\n",
       "Name: count, Length: 194, dtype: int64"
      ]
     },
     "execution_count": 5,
     "metadata": {},
     "output_type": "execute_result"
    }
   ],
   "source": [
    "df['pickup_zone'].value_counts()"
   ]
  },
  {
   "cell_type": "code",
   "execution_count": 6,
   "id": "9d112a25",
   "metadata": {},
   "outputs": [
    {
     "data": {
      "text/html": [
       "<div>\n",
       "<style scoped>\n",
       "    .dataframe tbody tr th:only-of-type {\n",
       "        vertical-align: middle;\n",
       "    }\n",
       "\n",
       "    .dataframe tbody tr th {\n",
       "        vertical-align: top;\n",
       "    }\n",
       "\n",
       "    .dataframe thead th {\n",
       "        text-align: right;\n",
       "    }\n",
       "</style>\n",
       "<table border=\"1\" class=\"dataframe\">\n",
       "  <thead>\n",
       "    <tr style=\"text-align: right;\">\n",
       "      <th></th>\n",
       "      <th>passengers</th>\n",
       "      <th>distance</th>\n",
       "      <th>fare</th>\n",
       "      <th>tip</th>\n",
       "      <th>tolls</th>\n",
       "      <th>total</th>\n",
       "    </tr>\n",
       "  </thead>\n",
       "  <tbody>\n",
       "    <tr>\n",
       "      <th>count</th>\n",
       "      <td>4546.000000</td>\n",
       "      <td>4546.000000</td>\n",
       "      <td>4546.000000</td>\n",
       "      <td>4546.000000</td>\n",
       "      <td>4546.000000</td>\n",
       "      <td>4546.000000</td>\n",
       "    </tr>\n",
       "    <tr>\n",
       "      <th>mean</th>\n",
       "      <td>1.540695</td>\n",
       "      <td>3.209327</td>\n",
       "      <td>13.531098</td>\n",
       "      <td>2.751630</td>\n",
       "      <td>0.371067</td>\n",
       "      <td>19.877288</td>\n",
       "    </tr>\n",
       "    <tr>\n",
       "      <th>std</th>\n",
       "      <td>1.219115</td>\n",
       "      <td>3.890197</td>\n",
       "      <td>11.100915</td>\n",
       "      <td>2.374438</td>\n",
       "      <td>1.450619</td>\n",
       "      <td>13.522908</td>\n",
       "    </tr>\n",
       "    <tr>\n",
       "      <th>min</th>\n",
       "      <td>0.000000</td>\n",
       "      <td>0.000000</td>\n",
       "      <td>2.500000</td>\n",
       "      <td>0.000000</td>\n",
       "      <td>0.000000</td>\n",
       "      <td>3.300000</td>\n",
       "    </tr>\n",
       "    <tr>\n",
       "      <th>25%</th>\n",
       "      <td>1.000000</td>\n",
       "      <td>1.010000</td>\n",
       "      <td>6.500000</td>\n",
       "      <td>1.500000</td>\n",
       "      <td>0.000000</td>\n",
       "      <td>11.760000</td>\n",
       "    </tr>\n",
       "    <tr>\n",
       "      <th>50%</th>\n",
       "      <td>1.000000</td>\n",
       "      <td>1.730000</td>\n",
       "      <td>9.500000</td>\n",
       "      <td>2.200000</td>\n",
       "      <td>0.000000</td>\n",
       "      <td>15.350000</td>\n",
       "    </tr>\n",
       "    <tr>\n",
       "      <th>75%</th>\n",
       "      <td>2.000000</td>\n",
       "      <td>3.477500</td>\n",
       "      <td>15.500000</td>\n",
       "      <td>3.260000</td>\n",
       "      <td>0.000000</td>\n",
       "      <td>21.960000</td>\n",
       "    </tr>\n",
       "    <tr>\n",
       "      <th>max</th>\n",
       "      <td>6.000000</td>\n",
       "      <td>30.230000</td>\n",
       "      <td>93.500000</td>\n",
       "      <td>23.190000</td>\n",
       "      <td>17.280000</td>\n",
       "      <td>100.490000</td>\n",
       "    </tr>\n",
       "  </tbody>\n",
       "</table>\n",
       "</div>"
      ],
      "text/plain": [
       "        passengers     distance         fare          tip        tolls  \\\n",
       "count  4546.000000  4546.000000  4546.000000  4546.000000  4546.000000   \n",
       "mean      1.540695     3.209327    13.531098     2.751630     0.371067   \n",
       "std       1.219115     3.890197    11.100915     2.374438     1.450619   \n",
       "min       0.000000     0.000000     2.500000     0.000000     0.000000   \n",
       "25%       1.000000     1.010000     6.500000     1.500000     0.000000   \n",
       "50%       1.000000     1.730000     9.500000     2.200000     0.000000   \n",
       "75%       2.000000     3.477500    15.500000     3.260000     0.000000   \n",
       "max       6.000000    30.230000    93.500000    23.190000    17.280000   \n",
       "\n",
       "             total  \n",
       "count  4546.000000  \n",
       "mean     19.877288  \n",
       "std      13.522908  \n",
       "min       3.300000  \n",
       "25%      11.760000  \n",
       "50%      15.350000  \n",
       "75%      21.960000  \n",
       "max     100.490000  "
      ]
     },
     "execution_count": 6,
     "metadata": {},
     "output_type": "execute_result"
    }
   ],
   "source": [
    "df[df['payment'] == 'credit card'].describe()"
   ]
  },
  {
   "cell_type": "markdown",
   "id": "708cf782",
   "metadata": {},
   "source": [
    "1 задача\n",
    "\n",
    "Назовите совокупную сумму чаевых топ-5 поездок,\n",
    "где пассажиры оказались щедрыми на чаевые\n",
    "(в абсолютных значениях, результат округлите до целых).\n",
    "\n",
    "В ответе введите число цифрами и символ без проблема"
   ]
  },
  {
   "cell_type": "code",
   "execution_count": 7,
   "id": "987fea65",
   "metadata": {},
   "outputs": [
    {
     "data": {
      "text/html": [
       "<div>\n",
       "<style scoped>\n",
       "    .dataframe tbody tr th:only-of-type {\n",
       "        vertical-align: middle;\n",
       "    }\n",
       "\n",
       "    .dataframe tbody tr th {\n",
       "        vertical-align: top;\n",
       "    }\n",
       "\n",
       "    .dataframe thead th {\n",
       "        text-align: right;\n",
       "    }\n",
       "</style>\n",
       "<table border=\"1\" class=\"dataframe\">\n",
       "  <thead>\n",
       "    <tr style=\"text-align: right;\">\n",
       "      <th></th>\n",
       "      <th>pickup</th>\n",
       "      <th>dropoff</th>\n",
       "      <th>passengers</th>\n",
       "      <th>distance</th>\n",
       "      <th>fare</th>\n",
       "      <th>tip</th>\n",
       "      <th>tolls</th>\n",
       "      <th>total</th>\n",
       "      <th>color</th>\n",
       "      <th>payment</th>\n",
       "      <th>pickup_zone</th>\n",
       "      <th>dropoff_zone</th>\n",
       "      <th>pickup_borough</th>\n",
       "      <th>dropoff_borough</th>\n",
       "    </tr>\n",
       "  </thead>\n",
       "  <tbody>\n",
       "    <tr>\n",
       "      <th>4162</th>\n",
       "      <td>2019-03-29 17:32:20</td>\n",
       "      <td>2019-03-29 18:53:52</td>\n",
       "      <td>1</td>\n",
       "      <td>26.92</td>\n",
       "      <td>75.50</td>\n",
       "      <td>23.19</td>\n",
       "      <td>0.00</td>\n",
       "      <td>100.49</td>\n",
       "      <td>yellow</td>\n",
       "      <td>credit card</td>\n",
       "      <td>JFK Airport</td>\n",
       "      <td>Cobble Hill</td>\n",
       "      <td>Queens</td>\n",
       "      <td>Brooklyn</td>\n",
       "    </tr>\n",
       "    <tr>\n",
       "      <th>2351</th>\n",
       "      <td>2019-03-28 15:58:52</td>\n",
       "      <td>2019-03-28 15:59:25</td>\n",
       "      <td>1</td>\n",
       "      <td>1.80</td>\n",
       "      <td>69.06</td>\n",
       "      <td>20.80</td>\n",
       "      <td>0.00</td>\n",
       "      <td>90.16</td>\n",
       "      <td>yellow</td>\n",
       "      <td>credit card</td>\n",
       "      <td>JFK Airport</td>\n",
       "      <td>JFK Airport</td>\n",
       "      <td>Queens</td>\n",
       "      <td>Queens</td>\n",
       "    </tr>\n",
       "    <tr>\n",
       "      <th>772</th>\n",
       "      <td>2019-03-15 15:10:03</td>\n",
       "      <td>2019-03-15 16:25:25</td>\n",
       "      <td>1</td>\n",
       "      <td>16.30</td>\n",
       "      <td>52.00</td>\n",
       "      <td>18.30</td>\n",
       "      <td>5.76</td>\n",
       "      <td>79.36</td>\n",
       "      <td>yellow</td>\n",
       "      <td>credit card</td>\n",
       "      <td>Murray Hill</td>\n",
       "      <td>JFK Airport</td>\n",
       "      <td>Manhattan</td>\n",
       "      <td>Queens</td>\n",
       "    </tr>\n",
       "    <tr>\n",
       "      <th>1461</th>\n",
       "      <td>2019-03-10 20:27:25</td>\n",
       "      <td>2019-03-10 20:28:33</td>\n",
       "      <td>1</td>\n",
       "      <td>0.00</td>\n",
       "      <td>52.00</td>\n",
       "      <td>16.59</td>\n",
       "      <td>0.00</td>\n",
       "      <td>71.89</td>\n",
       "      <td>yellow</td>\n",
       "      <td>credit card</td>\n",
       "      <td>Lincoln Square East</td>\n",
       "      <td>Lincoln Square East</td>\n",
       "      <td>Manhattan</td>\n",
       "      <td>Manhattan</td>\n",
       "    </tr>\n",
       "    <tr>\n",
       "      <th>4209</th>\n",
       "      <td>2019-03-27 18:08:31</td>\n",
       "      <td>2019-03-27 19:01:45</td>\n",
       "      <td>1</td>\n",
       "      <td>16.77</td>\n",
       "      <td>52.00</td>\n",
       "      <td>16.39</td>\n",
       "      <td>5.76</td>\n",
       "      <td>81.95</td>\n",
       "      <td>yellow</td>\n",
       "      <td>credit card</td>\n",
       "      <td>JFK Airport</td>\n",
       "      <td>East Village</td>\n",
       "      <td>Queens</td>\n",
       "      <td>Manhattan</td>\n",
       "    </tr>\n",
       "  </tbody>\n",
       "</table>\n",
       "</div>"
      ],
      "text/plain": [
       "                   pickup              dropoff  passengers  distance   fare  \\\n",
       "4162  2019-03-29 17:32:20  2019-03-29 18:53:52           1     26.92  75.50   \n",
       "2351  2019-03-28 15:58:52  2019-03-28 15:59:25           1      1.80  69.06   \n",
       "772   2019-03-15 15:10:03  2019-03-15 16:25:25           1     16.30  52.00   \n",
       "1461  2019-03-10 20:27:25  2019-03-10 20:28:33           1      0.00  52.00   \n",
       "4209  2019-03-27 18:08:31  2019-03-27 19:01:45           1     16.77  52.00   \n",
       "\n",
       "        tip  tolls   total   color      payment          pickup_zone  \\\n",
       "4162  23.19   0.00  100.49  yellow  credit card          JFK Airport   \n",
       "2351  20.80   0.00   90.16  yellow  credit card          JFK Airport   \n",
       "772   18.30   5.76   79.36  yellow  credit card          Murray Hill   \n",
       "1461  16.59   0.00   71.89  yellow  credit card  Lincoln Square East   \n",
       "4209  16.39   5.76   81.95  yellow  credit card          JFK Airport   \n",
       "\n",
       "             dropoff_zone pickup_borough dropoff_borough  \n",
       "4162          Cobble Hill         Queens        Brooklyn  \n",
       "2351          JFK Airport         Queens          Queens  \n",
       "772           JFK Airport      Manhattan          Queens  \n",
       "1461  Lincoln Square East      Manhattan       Manhattan  \n",
       "4209         East Village         Queens       Manhattan  "
      ]
     },
     "execution_count": 7,
     "metadata": {},
     "output_type": "execute_result"
    }
   ],
   "source": [
    "sum_5_tip = df.sort_values('tip', ascending=False)[:5]\n",
    "sum_5_tip\n"
   ]
  },
  {
   "cell_type": "code",
   "execution_count": 8,
   "id": "ef289403",
   "metadata": {},
   "outputs": [
    {
     "data": {
      "text/plain": [
       "95.27000000000001"
      ]
     },
     "execution_count": 8,
     "metadata": {},
     "output_type": "execute_result"
    }
   ],
   "source": [
    "18.30 + 23.19 + 20.80 + 16.59 + 16.39"
   ]
  },
  {
   "cell_type": "code",
   "execution_count": 9,
   "id": "351aab8d",
   "metadata": {},
   "outputs": [
    {
     "data": {
      "text/plain": [
       "95.27000000000001"
      ]
     },
     "execution_count": 9,
     "metadata": {},
     "output_type": "execute_result"
    }
   ],
   "source": [
    "sum_5_tip.sum()['tip']"
   ]
  },
  {
   "cell_type": "code",
   "execution_count": 17,
   "id": "71ea6fa0",
   "metadata": {},
   "outputs": [
    {
     "name": "stdout",
     "output_type": "stream",
     "text": [
      "95$\n"
     ]
    }
   ],
   "source": [
    "print(round(sum_5_tip.sum()['tip']),'$', sep='')"
   ]
  },
  {
   "cell_type": "markdown",
   "id": "202a818a",
   "metadata": {},
   "source": [
    "2 задача\n",
    "\n",
    "Какова доля пошлин (tolls) в общем объеме рынка (total)\n",
    "такси Нью-Йорка (в рамках представленного датасета)?\n",
    "Ответ отразите в %, округлив результат до сотых\n",
    "\n",
    "вводите ответ числом без пробелов между символами.\n"
   ]
  },
  {
   "cell_type": "code",
   "execution_count": 57,
   "id": "135a125e",
   "metadata": {},
   "outputs": [],
   "source": [
    "df['procent'] = df['tolls'] / df['total']"
   ]
  },
  {
   "cell_type": "code",
   "execution_count": 58,
   "id": "64b3a149",
   "metadata": {},
   "outputs": [
    {
     "data": {
      "text/html": [
       "<div>\n",
       "<style scoped>\n",
       "    .dataframe tbody tr th:only-of-type {\n",
       "        vertical-align: middle;\n",
       "    }\n",
       "\n",
       "    .dataframe tbody tr th {\n",
       "        vertical-align: top;\n",
       "    }\n",
       "\n",
       "    .dataframe thead th {\n",
       "        text-align: right;\n",
       "    }\n",
       "</style>\n",
       "<table border=\"1\" class=\"dataframe\">\n",
       "  <thead>\n",
       "    <tr style=\"text-align: right;\">\n",
       "      <th></th>\n",
       "      <th>pickup</th>\n",
       "      <th>dropoff</th>\n",
       "      <th>passengers</th>\n",
       "      <th>distance</th>\n",
       "      <th>fare</th>\n",
       "      <th>tip</th>\n",
       "      <th>tolls</th>\n",
       "      <th>total</th>\n",
       "      <th>color</th>\n",
       "      <th>payment</th>\n",
       "      <th>pickup_zone</th>\n",
       "      <th>dropoff_zone</th>\n",
       "      <th>pickup_borough</th>\n",
       "      <th>dropoff_borough</th>\n",
       "      <th>procent</th>\n",
       "    </tr>\n",
       "  </thead>\n",
       "  <tbody>\n",
       "    <tr>\n",
       "      <th>0</th>\n",
       "      <td>2019-03-23 20:21:09</td>\n",
       "      <td>2019-03-23 20:27:24</td>\n",
       "      <td>1</td>\n",
       "      <td>1.60</td>\n",
       "      <td>7.0</td>\n",
       "      <td>2.15</td>\n",
       "      <td>0.0</td>\n",
       "      <td>12.95</td>\n",
       "      <td>yellow</td>\n",
       "      <td>credit card</td>\n",
       "      <td>Lenox Hill West</td>\n",
       "      <td>UN/Turtle Bay South</td>\n",
       "      <td>Manhattan</td>\n",
       "      <td>Manhattan</td>\n",
       "      <td>0.0</td>\n",
       "    </tr>\n",
       "    <tr>\n",
       "      <th>1</th>\n",
       "      <td>2019-03-04 16:11:55</td>\n",
       "      <td>2019-03-04 16:19:00</td>\n",
       "      <td>1</td>\n",
       "      <td>0.79</td>\n",
       "      <td>5.0</td>\n",
       "      <td>0.00</td>\n",
       "      <td>0.0</td>\n",
       "      <td>9.30</td>\n",
       "      <td>yellow</td>\n",
       "      <td>cash</td>\n",
       "      <td>Upper West Side South</td>\n",
       "      <td>Upper West Side South</td>\n",
       "      <td>Manhattan</td>\n",
       "      <td>Manhattan</td>\n",
       "      <td>0.0</td>\n",
       "    </tr>\n",
       "    <tr>\n",
       "      <th>2</th>\n",
       "      <td>2019-03-27 17:53:01</td>\n",
       "      <td>2019-03-27 18:00:25</td>\n",
       "      <td>1</td>\n",
       "      <td>1.37</td>\n",
       "      <td>7.5</td>\n",
       "      <td>2.36</td>\n",
       "      <td>0.0</td>\n",
       "      <td>14.16</td>\n",
       "      <td>yellow</td>\n",
       "      <td>credit card</td>\n",
       "      <td>Alphabet City</td>\n",
       "      <td>West Village</td>\n",
       "      <td>Manhattan</td>\n",
       "      <td>Manhattan</td>\n",
       "      <td>0.0</td>\n",
       "    </tr>\n",
       "    <tr>\n",
       "      <th>3</th>\n",
       "      <td>2019-03-10 01:23:59</td>\n",
       "      <td>2019-03-10 01:49:51</td>\n",
       "      <td>1</td>\n",
       "      <td>7.70</td>\n",
       "      <td>27.0</td>\n",
       "      <td>6.15</td>\n",
       "      <td>0.0</td>\n",
       "      <td>36.95</td>\n",
       "      <td>yellow</td>\n",
       "      <td>credit card</td>\n",
       "      <td>Hudson Sq</td>\n",
       "      <td>Yorkville West</td>\n",
       "      <td>Manhattan</td>\n",
       "      <td>Manhattan</td>\n",
       "      <td>0.0</td>\n",
       "    </tr>\n",
       "    <tr>\n",
       "      <th>4</th>\n",
       "      <td>2019-03-30 13:27:42</td>\n",
       "      <td>2019-03-30 13:37:14</td>\n",
       "      <td>3</td>\n",
       "      <td>2.16</td>\n",
       "      <td>9.0</td>\n",
       "      <td>1.10</td>\n",
       "      <td>0.0</td>\n",
       "      <td>13.40</td>\n",
       "      <td>yellow</td>\n",
       "      <td>credit card</td>\n",
       "      <td>Midtown East</td>\n",
       "      <td>Yorkville West</td>\n",
       "      <td>Manhattan</td>\n",
       "      <td>Manhattan</td>\n",
       "      <td>0.0</td>\n",
       "    </tr>\n",
       "  </tbody>\n",
       "</table>\n",
       "</div>"
      ],
      "text/plain": [
       "                pickup              dropoff  passengers  distance  fare   tip  \\\n",
       "0  2019-03-23 20:21:09  2019-03-23 20:27:24           1      1.60   7.0  2.15   \n",
       "1  2019-03-04 16:11:55  2019-03-04 16:19:00           1      0.79   5.0  0.00   \n",
       "2  2019-03-27 17:53:01  2019-03-27 18:00:25           1      1.37   7.5  2.36   \n",
       "3  2019-03-10 01:23:59  2019-03-10 01:49:51           1      7.70  27.0  6.15   \n",
       "4  2019-03-30 13:27:42  2019-03-30 13:37:14           3      2.16   9.0  1.10   \n",
       "\n",
       "   tolls  total   color      payment            pickup_zone  \\\n",
       "0    0.0  12.95  yellow  credit card        Lenox Hill West   \n",
       "1    0.0   9.30  yellow         cash  Upper West Side South   \n",
       "2    0.0  14.16  yellow  credit card          Alphabet City   \n",
       "3    0.0  36.95  yellow  credit card              Hudson Sq   \n",
       "4    0.0  13.40  yellow  credit card           Midtown East   \n",
       "\n",
       "            dropoff_zone pickup_borough dropoff_borough  procent  \n",
       "0    UN/Turtle Bay South      Manhattan       Manhattan      0.0  \n",
       "1  Upper West Side South      Manhattan       Manhattan      0.0  \n",
       "2           West Village      Manhattan       Manhattan      0.0  \n",
       "3         Yorkville West      Manhattan       Manhattan      0.0  \n",
       "4         Yorkville West      Manhattan       Manhattan      0.0  "
      ]
     },
     "execution_count": 58,
     "metadata": {},
     "output_type": "execute_result"
    }
   ],
   "source": [
    "df.head()"
   ]
  },
  {
   "cell_type": "code",
   "execution_count": 61,
   "id": "55cdcf38",
   "metadata": {},
   "outputs": [
    {
     "data": {
      "text/plain": [
       "1.7192140450339164"
      ]
     },
     "execution_count": 61,
     "metadata": {},
     "output_type": "execute_result"
    }
   ],
   "source": [
    "df.sum()['tolls']/df.sum()['total'] * 100"
   ]
  },
  {
   "cell_type": "code",
   "execution_count": 62,
   "id": "8fa94cc3",
   "metadata": {},
   "outputs": [
    {
     "data": {
      "text/plain": [
       "1.72"
      ]
     },
     "execution_count": 62,
     "metadata": {},
     "output_type": "execute_result"
    }
   ],
   "source": [
    "round(df.sum()['tolls']/df.sum()['total'] * 100, 2)"
   ]
  },
  {
   "cell_type": "markdown",
   "id": "2979f8ec",
   "metadata": {},
   "source": [
    "3\n",
    "\n",
    "\n",
    "Кто больше (в среднем) оставляет чаевых:\n",
    "те, кто расплачиваются за поездки банковскими картами,\n",
    "или те, кто расплачивается наличными?\n",
    "Выберете один из двух вариантов ответа: банковскими картами или наличными\n",
    "\n",
    "В поле ответа введите словами (в именительном падеже) один из двух выделенных жирных шрифтом вариантов\n"
   ]
  },
  {
   "cell_type": "code",
   "execution_count": 23,
   "id": "918ff612",
   "metadata": {},
   "outputs": [
    {
     "data": {
      "text/html": [
       "<div>\n",
       "<style scoped>\n",
       "    .dataframe tbody tr th:only-of-type {\n",
       "        vertical-align: middle;\n",
       "    }\n",
       "\n",
       "    .dataframe tbody tr th {\n",
       "        vertical-align: top;\n",
       "    }\n",
       "\n",
       "    .dataframe thead th {\n",
       "        text-align: right;\n",
       "    }\n",
       "</style>\n",
       "<table border=\"1\" class=\"dataframe\">\n",
       "  <thead>\n",
       "    <tr style=\"text-align: right;\">\n",
       "      <th></th>\n",
       "      <th>tip</th>\n",
       "    </tr>\n",
       "    <tr>\n",
       "      <th>payment</th>\n",
       "      <th></th>\n",
       "    </tr>\n",
       "  </thead>\n",
       "  <tbody>\n",
       "    <tr>\n",
       "      <th>cash</th>\n",
       "      <td>0.00000</td>\n",
       "    </tr>\n",
       "    <tr>\n",
       "      <th>credit card</th>\n",
       "      <td>2.75163</td>\n",
       "    </tr>\n",
       "  </tbody>\n",
       "</table>\n",
       "</div>"
      ],
      "text/plain": [
       "                 tip\n",
       "payment             \n",
       "cash         0.00000\n",
       "credit card  2.75163"
      ]
     },
     "execution_count": 23,
     "metadata": {},
     "output_type": "execute_result"
    }
   ],
   "source": [
    "df.groupby('payment').agg({'tip': 'mean'})"
   ]
  },
  {
   "cell_type": "markdown",
   "id": "fddae374",
   "metadata": {},
   "source": [
    "4 \n",
    "Сколько секунд заняла самая длинная поездка?\n",
    "\n",
    "Введите в ответе только число цифрами\n"
   ]
  },
  {
   "cell_type": "code",
   "execution_count": 48,
   "id": "10ce3795",
   "metadata": {},
   "outputs": [
    {
     "data": {
      "text/plain": [
       "5286   0 days 01:04:51\n",
       "Name: time, dtype: timedelta64[ns]"
      ]
     },
     "execution_count": 48,
     "metadata": {},
     "output_type": "execute_result"
    }
   ],
   "source": [
    "df['time'] = pd.to_datetime(df['dropoff']) - pd.to_datetime(df['pickup'])\n",
    "df[df['distance'] == df['distance'].max()]['time']"
   ]
  },
  {
   "cell_type": "code",
   "execution_count": 63,
   "id": "a21f3bed",
   "metadata": {},
   "outputs": [
    {
     "data": {
      "text/plain": [
       "3891"
      ]
     },
     "execution_count": 63,
     "metadata": {},
     "output_type": "execute_result"
    }
   ],
   "source": [
    "3600 + 240 + 51"
   ]
  },
  {
   "cell_type": "code",
   "execution_count": null,
   "id": "eb2b421b",
   "metadata": {},
   "outputs": [],
   "source": [
    "df[df['distance'] == df['distance'].max()]['time'].iloc[0].total_seconds()"
   ]
  },
  {
   "cell_type": "code",
   "execution_count": null,
   "id": "c8755dae",
   "metadata": {},
   "outputs": [],
   "source": [
    "3891.0"
   ]
  },
  {
   "cell_type": "markdown",
   "id": "a5ff4c3b",
   "metadata": {},
   "source": [
    "5\n",
    "\n",
    "Поездки из какого аэропорта в среднем дороже?\n",
    "\n",
    "Ответ введите английскими буквами по следующей схеме: буквенное обозначение названия аэропорта + \"Airport\""
   ]
  },
  {
   "cell_type": "code",
   "execution_count": 60,
   "id": "599ae7de",
   "metadata": {},
   "outputs": [
    {
     "data": {
      "text/plain": [
       "pickup_zone\n",
       "LaGuardia Airport    143\n",
       "JFK Airport          142\n",
       "Name: count, dtype: int64"
      ]
     },
     "execution_count": 60,
     "metadata": {},
     "output_type": "execute_result"
    }
   ],
   "source": [
    "df[df['pickup_zone'].str.contains('Airport')]['pickup_zone'].value_counts()"
   ]
  },
  {
   "cell_type": "code",
   "execution_count": 59,
   "id": "166276d6",
   "metadata": {},
   "outputs": [
    {
     "data": {
      "text/html": [
       "<div>\n",
       "<style scoped>\n",
       "    .dataframe tbody tr th:only-of-type {\n",
       "        vertical-align: middle;\n",
       "    }\n",
       "\n",
       "    .dataframe tbody tr th {\n",
       "        vertical-align: top;\n",
       "    }\n",
       "\n",
       "    .dataframe thead th {\n",
       "        text-align: right;\n",
       "    }\n",
       "</style>\n",
       "<table border=\"1\" class=\"dataframe\">\n",
       "  <thead>\n",
       "    <tr style=\"text-align: right;\">\n",
       "      <th></th>\n",
       "      <th>total</th>\n",
       "    </tr>\n",
       "    <tr>\n",
       "      <th>pickup_zone</th>\n",
       "      <th></th>\n",
       "    </tr>\n",
       "  </thead>\n",
       "  <tbody>\n",
       "    <tr>\n",
       "      <th>LaGuardia Airport</th>\n",
       "      <td>41.965734</td>\n",
       "    </tr>\n",
       "    <tr>\n",
       "      <th>JFK Airport</th>\n",
       "      <td>55.499296</td>\n",
       "    </tr>\n",
       "  </tbody>\n",
       "</table>\n",
       "</div>"
      ],
      "text/plain": [
       "                       total\n",
       "pickup_zone                 \n",
       "LaGuardia Airport  41.965734\n",
       "JFK Airport        55.499296"
      ]
     },
     "execution_count": 59,
     "metadata": {},
     "output_type": "execute_result"
    }
   ],
   "source": [
    "df[df['pickup_zone'].str.contains('Airport')].groupby('pickup_zone').agg({'total': 'mean'}).sort_values('total')"
   ]
  },
  {
   "cell_type": "code",
   "execution_count": null,
   "id": "2806bc6a",
   "metadata": {},
   "outputs": [],
   "source": []
  }
 ],
 "metadata": {
  "kernelspec": {
   "display_name": "Python 3 (ipykernel)",
   "language": "python",
   "name": "python3"
  },
  "language_info": {
   "codemirror_mode": {
    "name": "ipython",
    "version": 3
   },
   "file_extension": ".py",
   "mimetype": "text/x-python",
   "name": "python",
   "nbconvert_exporter": "python",
   "pygments_lexer": "ipython3",
   "version": "3.11.4"
  }
 },
 "nbformat": 4,
 "nbformat_minor": 5
}
